{
  "nbformat": 4,
  "nbformat_minor": 0,
  "metadata": {
    "colab": {
      "name": "Lab_3.ipynb",
      "provenance": []
    },
    "kernelspec": {
      "name": "python3",
      "display_name": "Python 3"
    }
  },
  "cells": [
    {
      "cell_type": "code",
      "metadata": {
        "id": "iz5pJGIS4l-h",
        "outputId": "2741bcc5-013f-4455-8b3e-e0731fc9ed36",
        "colab": {
          "base_uri": "https://localhost:8080/",
          "height": 34
        }
      },
      "source": [
        "\n",
        "\n",
        "# Min Max with Alpha-Beta Pruning  \n",
        "  \n",
        "#  Aplha and Beta values for purning  \n",
        "MAX, MIN = 1000, -1000 \n",
        "    \n",
        "def minimax(depth, nodeIndex, maximizingPlayer,values, alpha, beta):  \n",
        "     \n",
        "    if depth == 3:  \n",
        "        return values[nodeIndex]  \n",
        "  \n",
        "    if maximizingPlayer:  \n",
        "        best = MIN \n",
        "        for i in range(0, 2):  \n",
        "              \n",
        "            val = minimax(depth + 1, nodeIndex * 2 + i,  False, values, alpha, beta)  \n",
        "            best = max(best, val)  \n",
        "            alpha = max(alpha, best) \n",
        "\n",
        "            if beta <= alpha:  \n",
        "                break \n",
        "           \n",
        "        return best  \n",
        "       \n",
        "    else: \n",
        "        best = MAX \n",
        "        for i in range(0, 2):  \n",
        "           \n",
        "            val = minimax(depth + 1, nodeIndex * 2 + i,  \n",
        "                            True, values, alpha, beta)  \n",
        "            best = min(best, val)  \n",
        "            beta = min(beta, best)  \n",
        "  \n",
        "            \n",
        "            if beta <= alpha:  \n",
        "                break \n",
        "           \n",
        "        return best  \n",
        "       \n",
        "# Driver Code  \n",
        "if __name__ == \"__main__\":  \n",
        "   \n",
        "    values = [3, 5, 6, 9, 1, 2, 0, -1]   \n",
        "    print(\"The optimal value is :\", minimax(0, 0, True, values, MIN, MAX))  \n",
        "      "
      ],
      "execution_count": null,
      "outputs": [
        {
          "output_type": "stream",
          "text": [
            "The optimal value is : 5\n"
          ],
          "name": "stdout"
        }
      ]
    }
  ]
}
