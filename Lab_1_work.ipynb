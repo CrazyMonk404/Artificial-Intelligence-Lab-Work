{
  "nbformat": 4,
  "nbformat_minor": 0,
  "metadata": {
    "colab": {
      "name": "Lab_1_work",
      "provenance": [],
      "collapsed_sections": []
    },
    "kernelspec": {
      "name": "python3",
      "display_name": "Python 3"
    }
  },
  "cells": [
    {
      "cell_type": "code",
      "metadata": {
        "id": "ii-GaDPEt1iL",
        "colab_type": "code",
        "colab": {
          "base_uri": "https://localhost:8080/",
          "height": 121
        },
        "outputId": "818875a6-1495-4838-d0e4-750ef93f820d"
      },
      "source": [
        "from google.colab import drive\n",
        "drive.mount('/content/drive')\n"
      ],
      "execution_count": null,
      "outputs": [
        {
          "output_type": "stream",
          "text": [
            "Go to this URL in a browser: https://accounts.google.com/o/oauth2/auth?client_id=947318989803-6bn6qk8qdgf4n4g3pfee6491hc0brc4i.apps.googleusercontent.com&redirect_uri=urn%3aietf%3awg%3aoauth%3a2.0%3aoob&scope=email%20https%3a%2f%2fwww.googleapis.com%2fauth%2fdocs.test%20https%3a%2f%2fwww.googleapis.com%2fauth%2fdrive%20https%3a%2f%2fwww.googleapis.com%2fauth%2fdrive.photos.readonly%20https%3a%2f%2fwww.googleapis.com%2fauth%2fpeopleapi.readonly&response_type=code\n",
            "\n",
            "Enter your authorization code:\n",
            "··········\n",
            "Mounted at /content/drive\n"
          ],
          "name": "stdout"
        }
      ]
    },
    {
      "cell_type": "code",
      "metadata": {
        "id": "amPrIrKBvKK7",
        "colab_type": "code",
        "colab": {}
      },
      "source": [
        "import pandas as pd\n",
        "import numpy as np"
      ],
      "execution_count": null,
      "outputs": []
    },
    {
      "cell_type": "code",
      "metadata": {
        "id": "mdreD0yVvfFU",
        "colab_type": "code",
        "colab": {
          "base_uri": "https://localhost:8080/",
          "height": 252
        },
        "outputId": "9f26e58c-cc59-411b-bd20-5256cb61ea06"
      },
      "source": [
        "df=pd.read_csv('/content/drive/My Drive/Colab Notebooks/heart.csv', encoding= 'unicode_escape')\n",
        "print(df)"
      ],
      "execution_count": null,
      "outputs": [
        {
          "output_type": "stream",
          "text": [
            "     ï»¿age  sex  cp  trestbps  chol  ...  oldpeak  slope  ca  thal  target\n",
            "0        63    1   3       145   233  ...      2.3      0   0     1       1\n",
            "1        37    1   2       130   250  ...      3.5      0   0     2       1\n",
            "2        41    0   1       130   204  ...      1.4      2   0     2       1\n",
            "3        56    1   1       120   236  ...      0.8      2   0     2       1\n",
            "4        57    0   0       120   354  ...      0.6      2   0     2       1\n",
            "..      ...  ...  ..       ...   ...  ...      ...    ...  ..   ...     ...\n",
            "298      57    0   0       140   241  ...      0.2      1   0     3       0\n",
            "299      45    1   3       110   264  ...      1.2      1   0     3       0\n",
            "300      68    1   0       144   193  ...      3.4      1   2     3       0\n",
            "301      57    1   0       130   131  ...      1.2      1   1     3       0\n",
            "302      57    0   1       130   236  ...      0.0      1   1     2       0\n",
            "\n",
            "[303 rows x 14 columns]\n"
          ],
          "name": "stdout"
        }
      ]
    },
    {
      "cell_type": "code",
      "metadata": {
        "id": "RiRMJQubwWR6",
        "colab_type": "code",
        "colab": {
          "base_uri": "https://localhost:8080/",
          "height": 34
        },
        "outputId": "3bc1c0a0-5bad-424c-ce1a-942894ebc962"
      },
      "source": [
        "print(list(df))\n"
      ],
      "execution_count": null,
      "outputs": [
        {
          "output_type": "stream",
          "text": [
            "['ï»¿age', 'sex', 'cp', 'trestbps', 'chol', 'fbs', 'restecg', 'thalach', 'exang', 'oldpeak', 'slope', 'ca', 'thal', 'target']\n"
          ],
          "name": "stdout"
        }
      ]
    },
    {
      "cell_type": "code",
      "metadata": {
        "id": "fI6oa6oiw8Vt",
        "colab_type": "code",
        "colab": {
          "base_uri": "https://localhost:8080/",
          "height": 269
        },
        "outputId": "f13c652e-c3e1-472b-fca8-d77b31b76c95"
      },
      "source": [
        "print(df.dtypes)"
      ],
      "execution_count": null,
      "outputs": [
        {
          "output_type": "stream",
          "text": [
            "ï»¿age        int64\n",
            "sex           int64\n",
            "cp            int64\n",
            "trestbps      int64\n",
            "chol          int64\n",
            "fbs           int64\n",
            "restecg       int64\n",
            "thalach       int64\n",
            "exang         int64\n",
            "oldpeak     float64\n",
            "slope         int64\n",
            "ca            int64\n",
            "thal          int64\n",
            "target        int64\n",
            "dtype: object\n"
          ],
          "name": "stdout"
        }
      ]
    }
  ]
}