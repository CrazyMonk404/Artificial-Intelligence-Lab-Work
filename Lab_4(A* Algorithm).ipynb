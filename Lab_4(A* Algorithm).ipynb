{
  "nbformat": 4,
  "nbformat_minor": 0,
  "metadata": {
    "colab": {
      "name": "Lab_4.ipynb",
      "provenance": [],
      "collapsed_sections": []
    },
    "kernelspec": {
      "name": "python3",
      "display_name": "Python 3"
    }
  },
  "cells": [
    {
      "cell_type": "markdown",
      "metadata": {
        "id": "voFoKLVZFt0j"
      },
      "source": [
        "A*"
      ]
    },
    {
      "cell_type": "code",
      "metadata": {
        "id": "90k6gTQ8FZNu",
        "outputId": "1fe46c1e-19d8-45c2-c34b-d6b9ca2a0ca8",
        "colab": {
          "base_uri": "https://localhost:8080/",
          "height": 50
        }
      },
      "source": [
        "class Node():\n",
        "    def __init__(self, parent=None, position=None):\n",
        "        self.parent = parent\n",
        "        self.position = position\n",
        "        self.g = 0\n",
        "        self.h = 0\n",
        "        self.f = 0\n",
        "    def __eq__(self, other):\n",
        "        return self.position == other.position\n",
        "def astar(maze, start, end):\n",
        "    start_node = Node(None, start)\n",
        "    start_node.g = start_node.h = start_node.f = 0\n",
        "    end_node = Node(None, end)\n",
        "    end_node.g = end_node.h = end_node.f = 0\n",
        "    open_list = []\n",
        "    closed_list = []\n",
        "    open_list.append(start_node)\n",
        "    while len(open_list) > 0:\n",
        "        current_node = open_list[0]\n",
        "        current_index = 0\n",
        "        for index, item in enumerate(open_list):\n",
        "            if item.f < current_node.f:\n",
        "                current_node = item\n",
        "                current_index = index\n",
        "        open_list.pop(current_index)\n",
        "        closed_list.append(current_node)\n",
        "        if current_node == end_node:\n",
        "            path = []\n",
        "            current = current_node\n",
        "            while current is not None:\n",
        "                path.append(current.position)\n",
        "                current = current.parent\n",
        "            return path[::-1]\n",
        "        children = []\n",
        "        for new_position in [(0, -1), (0, 1), (-1, 0), (1, 0), (-1, -1), (-1, 1), (1, -1), (1, 1)]:\n",
        "            node_position = (current_node.position[0] + new_position[0], current_node.position[1] + new_position[1])\n",
        "            if node_position[0] > (len(maze) - 1) or node_position[0] < 0 or node_position[1] > (\n",
        "                    len(maze[len(maze) - 1]) - 1) or node_position[1] < 0:\n",
        "                continue\n",
        "            if maze[node_position[0]][node_position[1]] != 0:\n",
        "                continue\n",
        "            new_node = Node(current_node, node_position)\n",
        "            children.append(new_node)\n",
        "        for child in children:\n",
        "            for closed_child in closed_list:\n",
        "                if child == closed_child:\n",
        "                    continue\n",
        "            child.g = current_node.g + 1\n",
        "            child.h = ((child.position[0] - end_node.position[0]) ** 2) + (\n",
        "                    (child.position[1] - end_node.position[1]) ** 2)\n",
        "            child.f = child.g + child.h\n",
        "            for open_node in open_list:\n",
        "                if child == open_node and child.g > open_node.g:\n",
        "                    continue\n",
        "            open_list.append(child)\n",
        "def main():\n",
        "    maze = [[0, 0, 0, 0, 1, 0],\n",
        "            [0, 0, 0, 0, 1, 0],\n",
        "            [0, 0, 0, 0, 1, 0],\n",
        "            [0, 0, 0, 0, 1, 0],\n",
        "            [0, 0, 0, 0, 1, 0],\n",
        "            [0, 0, 0, 0, 0, 0]]\n",
        "    graph = [[0, 1, 0, 0, 0, 0],\n",
        "             [1, 0, 1, 0, 1, 0],\n",
        "             [0, 1, 0, 0, 0, 1],\n",
        "             [0, 0, 0, 0, 1, 0],\n",
        "             [0, 1, 0, 1, 0, 0],\n",
        "             [0, 0, 1, 0, 0, 0]\n",
        "             ]\n",
        "    start = (0, 0)\n",
        "    end = (5, 5)\n",
        "    end1 = (5, 5)\n",
        "    path = astar(maze, start, end)\n",
        "    print(path)\n",
        "    path1 = astar(graph, start, end1)\n",
        "    print(path1)\n",
        "if __name__ == '__main__':\n",
        "    main()"
      ],
      "execution_count": null,
      "outputs": [
        {
          "output_type": "stream",
          "text": [
            "[(0, 0), (1, 1), (2, 2), (3, 3), (4, 3), (5, 4), (5, 5)]\n",
            "[(0, 0), (1, 1), (2, 2), (3, 3), (4, 4), (5, 5)]\n"
          ],
          "name": "stdout"
        }
      ]
    }
  ]
}
